{
 "cells": [
  {
   "cell_type": "code",
   "execution_count": 8,
   "id": "a567743e",
   "metadata": {},
   "outputs": [],
   "source": [
    "import pandas as pd \n",
    "import numpy as np \n",
    "import matplotlib.pyplot as plt \n",
    "import seaborn as sns \n",
    "import re \n",
    "%matplotlib inline "
   ]
  },
  {
   "cell_type": "code",
   "execution_count": 9,
   "id": "ab3a4974",
   "metadata": {},
   "outputs": [],
   "source": [
    "import warnings\n",
    "warnings.filterwarnings(\"ignore\")\n",
    "plt.style.use('ggplot')"
   ]
  },
  {
   "cell_type": "code",
   "execution_count": 10,
   "id": "20b4e2d6",
   "metadata": {},
   "outputs": [],
   "source": [
    "import nltk\n",
    "from nltk import word_tokenize"
   ]
  },
  {
   "cell_type": "code",
   "execution_count": null,
   "id": "3acff40a",
   "metadata": {},
   "outputs": [],
   "source": [
    "from sklearn.feature_extraction.text import CountVectorizer\n",
    "from sklearn.feature_extraction.text import TfidfVectorizer\n",
    "from collections import Counter\n",
    "from wordcloud import WordCloud"
   ]
  },
  {
   "cell_type": "code",
   "execution_count": 15,
   "id": "dafc2e1c",
   "metadata": {},
   "outputs": [],
   "source": [
    "from sklearn.model_selection import train_test_split\n",
    "from sklearn.linear_model import LogisticRegression\n",
    "from sklearn.ensemble import RandomForestClassifier\n",
    "from sklearn.metrics import accuracy_score\n",
    "from sklearn.metrics import f1_score"
   ]
  },
  {
   "cell_type": "code",
   "execution_count": 17,
   "id": "c36d8235",
   "metadata": {},
   "outputs": [],
   "source": [
    "df = pd.read_csv('Reviews.csv')"
   ]
  },
  {
   "cell_type": "code",
   "execution_count": null,
   "id": "366b356e",
   "metadata": {},
   "outputs": [],
   "source": [
    "df.head(3)"
   ]
  },
  {
   "cell_type": "code",
   "execution_count": null,
   "id": "aa7f6d45",
   "metadata": {},
   "outputs": [],
   "source": [
    "df.shape"
   ]
  },
  {
   "cell_type": "code",
   "execution_count": null,
   "id": "e981aef7",
   "metadata": {},
   "outputs": [],
   "source": [
    "df = df.sample(frac= 0.20,replace = True).reset_index(drop = True)\n",
    "\n",
    "df.head()"
   ]
  },
  {
   "cell_type": "code",
   "execution_count": null,
   "id": "7ee27faa",
   "metadata": {},
   "outputs": [],
   "source": [
    "df.shape"
   ]
  },
  {
   "cell_type": "code",
   "execution_count": null,
   "id": "a8c16066",
   "metadata": {},
   "outputs": [],
   "source": [
    "df.info()"
   ]
  },
  {
   "cell_type": "code",
   "execution_count": null,
   "id": "bdbe526b",
   "metadata": {},
   "outputs": [],
   "source": [
    "df.isna().sum()"
   ]
  },
  {
   "cell_type": "code",
   "execution_count": null,
   "id": "95f10ba9",
   "metadata": {},
   "outputs": [],
   "source": [
    "df.dropna(inplace= True)\n",
    "df.isna().sum()"
   ]
  },
  {
   "cell_type": "code",
   "execution_count": null,
   "id": "a9902bc9",
   "metadata": {},
   "outputs": [],
   "source": [
    "rating_pct = df['Score'].value_counts()/len(df) * 100\n",
    "rating_pct"
   ]
  },
  {
   "cell_type": "code",
   "execution_count": null,
   "id": "a97a3e0a",
   "metadata": {},
   "outputs": [],
   "source": [
    "rating_pct.plot.bar()\n",
    "plt.show()"
   ]
  },
  {
   "cell_type": "code",
   "execution_count": null,
   "id": "ceda8006",
   "metadata": {},
   "outputs": [],
   "source": [
    "#words per review\n",
    "plt.figure(figsize = (14,6))\n",
    "WordsPerReview = df['Text'].apply(lambda x: len(x.split(' ')))\n",
    "\n",
    "sns.histplot(WordsPerReview,bins = 100)\n",
    "\n",
    "plt.xlabel('Review Length')\n",
    "plt.show()"
   ]
  },
  {
   "cell_type": "code",
   "execution_count": null,
   "id": "d7d2cae2",
   "metadata": {},
   "outputs": [],
   "source": [
    "txt = ' '.join(review for review in df.Text)\n",
    "\n",
    "wordcloud = WordCloud(\n",
    "            background_color = 'white',\n",
    "            max_font_size = 100,\n",
    "            max_words = 100,\n",
    "            width = 800,\n",
    "            height = 500\n",
    "            ).generate(txt)\n",
    "\n",
    "\n",
    "plt.imshow(wordcloud,interpolation = 'bilinear')\n",
    "plt.axis('off')\n",
    "plt.show()"
   ]
  },
  {
   "cell_type": "code",
   "execution_count": null,
   "id": "94773678",
   "metadata": {},
   "outputs": [],
   "source": [
    "df = pd.DataFrame(df,columns = ['Score','Text'])\n",
    "df.rename(columns = {'Score':'Rating','Text':'Review'},inplace = True)\n",
    "def apply_sentiment(Rating):\n",
    "    if(Rating <=2 ):\n",
    "        return 0\n",
    "    else:\n",
    "        return 1\n",
    "df['Sentiment'] = df['Rating'].apply(apply_sentiment)\n",
    "df.drop(['Rating'],axis = 1, inplace = True)\n",
    "sentiment = df['Sentiment'].value_counts()\n",
    "sentiment\n",
    "plt.figure(figsize = ( 10,8))\n",
    "sns.countplot(data = df, x = 'Sentiment')\n",
    "plt.show()\n",
    "def clean_text(Review):\n",
    "   \n",
    "    Review = str(Review).lower() # convert to lowercase\n",
    "    Review = re.sub('\\[.*?\\]', '', Review) \n",
    "    Review = re.sub('https?://\\S+|www\\.\\S+', '', Review) # Remove URls\n",
    "    Review = re.sub('<.*?>+', '', Review)\n",
    "    Review = re.sub(r'[^a-z0-9\\s]', '', Review) # Remove punctuation\n",
    "    Review = re.sub('\\n', '', Review)\n",
    "    Review = re.sub('\\w*\\d\\w*', '', Review)\n",
    "    return Review\n",
    "df['Review'] = df['Review'].apply(clean_text)\n",
    "df.head()\n",
    "from nltk.corpus import stopwords\n",
    "stop_words = set(stopwords.words('english'))\n",
    "stopword = []\n",
    "sentence = df['Review'][0]\n",
    "\n",
    "\n",
    "#words = nltk.word_tokenize(sentence)\n",
    "\n",
    "\n",
    "def remove_stopword(stop_words, sentence):\n",
    "    return [word for word in nltk.word_tokenize(sentence) if word not in stop_words]\n",
    "\n",
    "df['reviews_text'] = df['Review'].apply(lambda row: remove_stopword(stop_words, row))\n",
    "df.head(3)\n",
    "from sklearn.model_selection import train_test_split\n",
    "X_train, X_test, y_train, y_test = train_test_split(X, y,random_state = 42,\n",
    "                                                   test_size = 0.20)\n",
    "X_train.shape,X_test.shape,y_train.shape\n",
    "from sklearn.pipeline import Pipeline\n",
    "from sklearn.feature_extraction.text import CountVectorizer, TfidfVectorizer, TfidfTransformer\n",
    "from sklearn.naive_bayes import MultinomialNB\n",
    "clf = Pipeline([\n",
    "    ('vect', CountVectorizer(stop_words= \"english\")),\n",
    "    ('tfidf', TfidfTransformer()),\n",
    "    ('classifier', MultinomialNB()),\n",
    "    ])\n",
    "X = df['reviews_text']\n",
    "y = df['Sentiment']\n",
    "fit_model = clf.fit(X_train,y_train)\n",
    "y_pred = clf.predict(X_test)\n",
    "print('Training accuracy:', fit_model.score(X_train,y_train))\n",
    "print('Test accuracy:', fit_model.score(X_test,y_test))\n",
    "from sklearn.metrics import classification_report, confusion_matrix\n",
    "print(classification_report(y_test,y_pred))\n",
    "\n",
    "print(confusion_matrix(y_test,y_pred))"
   ]
  }
 ],
 "metadata": {
  "kernelspec": {
   "display_name": "Python 3",
   "language": "python",
   "name": "python3"
  },
  "language_info": {
   "codemirror_mode": {
    "name": "ipython",
    "version": 3
   },
   "file_extension": ".py",
   "mimetype": "text/x-python",
   "name": "python",
   "nbconvert_exporter": "python",
   "pygments_lexer": "ipython3",
   "version": "3.8.10"
  }
 },
 "nbformat": 4,
 "nbformat_minor": 5
}
